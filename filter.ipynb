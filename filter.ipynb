{
 "cells": [
  {
   "cell_type": "code",
   "execution_count": 2,
   "id": "306c1b34",
   "metadata": {},
   "outputs": [],
   "source": [
    "import cv2\n",
    "import numpy as np"
   ]
  },
  {
   "cell_type": "code",
   "execution_count": 3,
   "id": "1d7a50a0",
   "metadata": {},
   "outputs": [],
   "source": [
    "from matplotlib import pyplot as plt"
   ]
  },
  {
   "cell_type": "markdown",
   "id": "0126cfca",
   "metadata": {},
   "source": [
    "# laplacian filter"
   ]
  },
  {
   "cell_type": "code",
   "execution_count": 4,
   "id": "f667c631",
   "metadata": {},
   "outputs": [
    {
     "data": {
      "text/plain": [
       "array([[255, 255, 255, ..., 255, 255, 255],\n",
       "       [255, 255, 255, ..., 255, 255, 255],\n",
       "       [255, 255, 255, ..., 255, 255, 255],\n",
       "       ...,\n",
       "       [255, 255, 255, ..., 255, 255, 255],\n",
       "       [255, 255, 255, ..., 255, 255, 255],\n",
       "       [255, 255, 255, ..., 255, 255, 255]], dtype=uint8)"
      ]
     },
     "execution_count": 4,
     "metadata": {},
     "output_type": "execute_result"
    }
   ],
   "source": [
    "im5=cv2.imread(\"C:/Users/SN127/tharun/pul.jpg\",0)\n",
    "im5"
   ]
  },
  {
   "cell_type": "code",
   "execution_count": 4,
   "id": "7e6430c7",
   "metadata": {},
   "outputs": [],
   "source": [
    "lap=cv2.Laplacian(im5,cv2.CV_64F,ksize=3)\n",
    "lap=np.uint8(np.absolute(lap))"
   ]
  },
  {
   "cell_type": "code",
   "execution_count": 5,
   "id": "fed4c9e5",
   "metadata": {},
   "outputs": [],
   "source": [
    "cv2.imshow('image', im5)\n",
    "cv2.imshow('lap', lap)\n",
    "cv2.waitKey(0)\n",
    "cv2.destroyAllWindows()"
   ]
  },
  {
   "cell_type": "markdown",
   "id": "8fd83c14",
   "metadata": {},
   "source": [
    "\n",
    "\n",
    "\n",
    "\n",
    "\n",
    "\n",
    "# sobel filter"
   ]
  },
  {
   "cell_type": "code",
   "execution_count": 5,
   "id": "887a9645",
   "metadata": {},
   "outputs": [],
   "source": [
    "im5=cv2.imread('C:/Users/SN127/tharun/pul.jpg')\n",
    "sobelx=cv2.Sobel(im5,cv2.CV_64F,1,0,ksize=3)\n",
    "sobelx=np.uint8(np.absolute(sobelx))\n",
    "cv2.imshow('image',im5)\n",
    "cv2.imshow('sobelx',sobelx)\n",
    "cv2.waitKey(0)\n",
    "cv2.destroyAllWindows()"
   ]
  },
  {
   "cell_type": "code",
   "execution_count": null,
   "id": "a8eaf595",
   "metadata": {},
   "outputs": [],
   "source": [
    "im6=cv2.imread('C:/Users/SN127/tharun/pul.jpg')\n",
    "sobely=cv2.Sobel(im5,cv2.CV_64F,0,0,ksize=3)\n",
    "sobelx=np.uint8(np.absolute(sobelx))\n",
    "cv2.imshow('image',im6)\n",
    "cv2.imshow('sobelx',sobelx)\n",
    "cv2.waitKey(0)\n",
    "cv2.destroyAllWindows()"
   ]
  },
  {
   "cell_type": "code",
   "execution_count": null,
   "id": "6b220fa2",
   "metadata": {},
   "outputs": [],
   "source": []
  }
 ],
 "metadata": {
  "kernelspec": {
   "display_name": "Python 3 (ipykernel)",
   "language": "python",
   "name": "python3"
  },
  "language_info": {
   "codemirror_mode": {
    "name": "ipython",
    "version": 3
   },
   "file_extension": ".py",
   "mimetype": "text/x-python",
   "name": "python",
   "nbconvert_exporter": "python",
   "pygments_lexer": "ipython3",
   "version": "3.10.9"
  }
 },
 "nbformat": 4,
 "nbformat_minor": 5
}
