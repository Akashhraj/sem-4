{
 "cells": [
  {
   "cell_type": "markdown",
   "id": "4d717903",
   "metadata": {},
   "source": [
    "# k-means clustering\n"
   ]
  },
  {
   "cell_type": "code",
   "execution_count": 1,
   "id": "3a42c759",
   "metadata": {},
   "outputs": [],
   "source": [
    "import cv2\n",
    "import numpy as np"
   ]
  },
  {
   "cell_type": "code",
   "execution_count": 2,
   "id": "53a53975",
   "metadata": {},
   "outputs": [],
   "source": [
    "img=cv2.imread(\"C:/Users/SN127/Desktop/messi.jpg\")"
   ]
  },
  {
   "cell_type": "code",
   "execution_count": 3,
   "id": "bad8dc85",
   "metadata": {},
   "outputs": [
    {
     "data": {
      "text/plain": [
       "array([[[221, 194, 180],\n",
       "        [220, 193, 179],\n",
       "        [219, 193, 177],\n",
       "        ...,\n",
       "        [215, 212, 198],\n",
       "        [210, 208, 198],\n",
       "        [208, 207, 197]],\n",
       "\n",
       "       [[217, 190, 176],\n",
       "        [216, 190, 174],\n",
       "        [215, 189, 173],\n",
       "        ...,\n",
       "        [207, 203, 192],\n",
       "        [201, 200, 190],\n",
       "        [198, 199, 189]],\n",
       "\n",
       "       [[216, 191, 175],\n",
       "        [215, 191, 173],\n",
       "        [214, 188, 171],\n",
       "        ...,\n",
       "        [201, 199, 188],\n",
       "        [195, 196, 186],\n",
       "        [192, 195, 186]],\n",
       "\n",
       "       ...,\n",
       "\n",
       "       [[249, 238, 178],\n",
       "        [248, 237, 175],\n",
       "        [249, 236, 174],\n",
       "        ...,\n",
       "        [253, 254, 252],\n",
       "        [253, 254, 252],\n",
       "        [253, 254, 252]],\n",
       "\n",
       "       [[249, 238, 178],\n",
       "        [249, 238, 176],\n",
       "        [250, 237, 175],\n",
       "        ...,\n",
       "        [253, 254, 252],\n",
       "        [253, 254, 252],\n",
       "        [253, 254, 252]],\n",
       "\n",
       "       [[251, 240, 180],\n",
       "        [250, 239, 177],\n",
       "        [251, 238, 176],\n",
       "        ...,\n",
       "        [253, 254, 252],\n",
       "        [253, 254, 252],\n",
       "        [253, 254, 252]]], dtype=uint8)"
      ]
     },
     "execution_count": 3,
     "metadata": {},
     "output_type": "execute_result"
    }
   ],
   "source": [
    "img"
   ]
  },
  {
   "cell_type": "markdown",
   "id": "39222344",
   "metadata": {},
   "source": [
    "# RGB CONVERTION"
   ]
  },
  {
   "cell_type": "code",
   "execution_count": 6,
   "id": "faefd4dd",
   "metadata": {},
   "outputs": [],
   "source": [
    "imgrgb=cv2.cvtColor(img,cv2.COLOR_BGR2RGB)"
   ]
  },
  {
   "cell_type": "code",
   "execution_count": 7,
   "id": "7469df89",
   "metadata": {},
   "outputs": [
    {
     "data": {
      "text/plain": [
       "array([[180, 194, 221, 179],\n",
       "       [193, 220, 177, 193],\n",
       "       [219, 177, 194, 220],\n",
       "       ...,\n",
       "       [252, 254, 253, 252],\n",
       "       [254, 253, 252, 254],\n",
       "       [253, 252, 254, 253]], dtype=uint8)"
      ]
     },
     "execution_count": 7,
     "metadata": {},
     "output_type": "execute_result"
    }
   ],
   "source": [
    "vec = imgrgb.reshape((-2,4))\n",
    "vec"
   ]
  },
  {
   "cell_type": "code",
   "execution_count": 8,
   "id": "99b1a88e",
   "metadata": {},
   "outputs": [
    {
     "data": {
      "text/plain": [
       "array([[180., 194., 221., 179.],\n",
       "       [193., 220., 177., 193.],\n",
       "       [219., 177., 194., 220.],\n",
       "       ...,\n",
       "       [252., 254., 253., 252.],\n",
       "       [254., 253., 252., 254.],\n",
       "       [253., 252., 254., 253.]], dtype=float32)"
      ]
     },
     "execution_count": 8,
     "metadata": {},
     "output_type": "execute_result"
    }
   ],
   "source": [
    "vec = np.float32(vec)\n",
    "vec"
   ]
  },
  {
   "cell_type": "markdown",
   "id": "1b390301",
   "metadata": {},
   "source": [
    "# iteration termination criteria"
   ]
  },
  {
   "cell_type": "code",
   "execution_count": 9,
   "id": "5d0d944e",
   "metadata": {},
   "outputs": [],
   "source": [
    "criteria = (cv2.TERM_CRITERIA_EPS+cv2.TERM_CRITERIA_MAX_ITER,100,1)"
   ]
  },
  {
   "cell_type": "markdown",
   "id": "a9855d7f",
   "metadata": {},
   "source": [
    "# cluster condition"
   ]
  },
  {
   "cell_type": "code",
   "execution_count": 19,
   "id": "0c09c667",
   "metadata": {},
   "outputs": [],
   "source": [
    "k = 3\n",
    "attempts = 100"
   ]
  },
  {
   "cell_type": "code",
   "execution_count": 20,
   "id": "5a298211",
   "metadata": {},
   "outputs": [
    {
     "data": {
      "text/plain": [
       "array([[137.09572 , 141.47806 , 141.83098 , 136.91125 ],\n",
       "       [ 43.59853 ,  43.94036 ,  44.41616 ,  43.495247],\n",
       "       [217.88573 , 214.60425 , 214.56837 , 217.99905 ]], dtype=float32)"
      ]
     },
     "execution_count": 20,
     "metadata": {},
     "output_type": "execute_result"
    }
   ],
   "source": [
    "compactness,label,center = cv2.kmeans(vec,k,None,criteria,attempts,cv2.KMEANS_PP_CENTERS)\n",
    "center"
   ]
  },
  {
   "cell_type": "code",
   "execution_count": 21,
   "id": "a8840833",
   "metadata": {},
   "outputs": [
    {
     "data": {
      "text/plain": [
       "array([[137, 141, 141, 136],\n",
       "       [ 43,  43,  44,  43],\n",
       "       [217, 214, 214, 217]], dtype=uint8)"
      ]
     },
     "execution_count": 21,
     "metadata": {},
     "output_type": "execute_result"
    }
   ],
   "source": [
    "center =np.uint8(center)\n",
    "center\n",
    "\n"
   ]
  },
  {
   "cell_type": "code",
   "execution_count": 25,
   "id": "84fc6c1b",
   "metadata": {},
   "outputs": [
    {
     "data": {
      "text/plain": [
       "array([[[217, 214, 214],\n",
       "        [217, 217, 214],\n",
       "        [214, 217, 217],\n",
       "        ...,\n",
       "        [217, 217, 214],\n",
       "        [214, 217, 217],\n",
       "        [214, 214, 217]],\n",
       "\n",
       "       [[217, 214, 214],\n",
       "        [217, 217, 214],\n",
       "        [214, 217, 217],\n",
       "        ...,\n",
       "        [217, 217, 214],\n",
       "        [214, 217, 217],\n",
       "        [214, 214, 217]],\n",
       "\n",
       "       [[217, 214, 214],\n",
       "        [217, 217, 214],\n",
       "        [214, 217, 217],\n",
       "        ...,\n",
       "        [217, 217, 214],\n",
       "        [214, 217, 217],\n",
       "        [214, 214, 217]],\n",
       "\n",
       "       ...,\n",
       "\n",
       "       [[217, 214, 214],\n",
       "        [217, 217, 214],\n",
       "        [214, 217, 217],\n",
       "        ...,\n",
       "        [217, 217, 214],\n",
       "        [214, 217, 217],\n",
       "        [214, 214, 217]],\n",
       "\n",
       "       [[217, 214, 214],\n",
       "        [217, 217, 214],\n",
       "        [214, 217, 217],\n",
       "        ...,\n",
       "        [217, 217, 214],\n",
       "        [214, 217, 217],\n",
       "        [214, 214, 217]],\n",
       "\n",
       "       [[217, 214, 214],\n",
       "        [217, 217, 214],\n",
       "        [214, 217, 217],\n",
       "        ...,\n",
       "        [217, 217, 214],\n",
       "        [214, 217, 217],\n",
       "        [214, 214, 217]]], dtype=uint8)"
      ]
     },
     "execution_count": 25,
     "metadata": {},
     "output_type": "execute_result"
    }
   ],
   "source": [
    "res = center[label.flatten()]\n",
    "res_img=res.reshape((imgrgb.shape))\n",
    "res_img"
   ]
  },
  {
   "cell_type": "markdown",
   "id": "5b774d1d",
   "metadata": {},
   "source": []
  },
  {
   "cell_type": "code",
   "execution_count": 27,
   "id": "c5e1d069",
   "metadata": {},
   "outputs": [],
   "source": [
    "cv2.imshow(\"img\",img)\n",
    "cv2.imshow(\"segmented\",res_img)\n",
    "cv2.waitKey(0)\n",
    "cv2.destroyAllWindows()"
   ]
  },
  {
   "cell_type": "code",
   "execution_count": 32,
   "id": "3fa4b266",
   "metadata": {},
   "outputs": [],
   "source": [
    "img=cv2.imread(\"C:/Users/SN127/Desktop/messi.jpg\")\n",
    "segmented_image=cv2.pyrMeanShiftFiltering(img,40,40)\n",
    "cv2.imshow(\"img\",img)\n",
    "cv2.imshow(\"segmented\",segmented_image)\n",
    "cv2.waitKey(0)\n",
    "cv2.destroyAllWindows()"
   ]
  },
  {
   "cell_type": "code",
   "execution_count": null,
   "id": "6e88ffd1",
   "metadata": {},
   "outputs": [],
   "source": []
  },
  {
   "cell_type": "code",
   "execution_count": null,
   "id": "024ac75d",
   "metadata": {},
   "outputs": [],
   "source": []
  }
 ],
 "metadata": {
  "kernelspec": {
   "display_name": "Python 3 (ipykernel)",
   "language": "python",
   "name": "python3"
  },
  "language_info": {
   "codemirror_mode": {
    "name": "ipython",
    "version": 3
   },
   "file_extension": ".py",
   "mimetype": "text/x-python",
   "name": "python",
   "nbconvert_exporter": "python",
   "pygments_lexer": "ipython3",
   "version": "3.10.9"
  }
 },
 "nbformat": 4,
 "nbformat_minor": 5
}
