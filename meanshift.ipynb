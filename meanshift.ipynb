{
 "cells": [
  {
   "cell_type": "markdown",
   "id": "49c22c82",
   "metadata": {},
   "source": [
    "# meanshift"
   ]
  },
  {
   "cell_type": "markdown",
   "id": "12f17e98",
   "metadata": {},
   "source": [
    "# meanshift filtering"
   ]
  },
  {
   "cell_type": "code",
   "execution_count": 1,
   "id": "a43add1d",
   "metadata": {},
   "outputs": [],
   "source": [
    "import cv2\n",
    "import numpy as np"
   ]
  },
  {
   "cell_type": "code",
   "execution_count": 2,
   "id": "6ba6f5ce",
   "metadata": {},
   "outputs": [],
   "source": [
    "im1=cv2.imread(\"C:/Users/SN127/Desktop/messi.jpg\")"
   ]
  },
  {
   "cell_type": "code",
   "execution_count": 3,
   "id": "e297f0fe",
   "metadata": {},
   "outputs": [],
   "source": [
    "segmented_image=cv2.pyrMeanShiftFiltering(im1,30,30)"
   ]
  },
  {
   "cell_type": "code",
   "execution_count": 7,
   "id": "d57f5db7",
   "metadata": {},
   "outputs": [],
   "source": [
    "cv2.imshow('image',im1)\n",
    "cv2.imshow('segmented img',segmented_image)\n",
    "cv2.waitKey(0)\n",
    "cv2.destroyAllWindows()"
   ]
  },
  {
   "cell_type": "code",
   "execution_count": null,
   "id": "f5c125ea",
   "metadata": {},
   "outputs": [],
   "source": []
  }
 ],
 "metadata": {
  "kernelspec": {
   "display_name": "Python 3 (ipykernel)",
   "language": "python",
   "name": "python3"
  },
  "language_info": {
   "codemirror_mode": {
    "name": "ipython",
    "version": 3
   },
   "file_extension": ".py",
   "mimetype": "text/x-python",
   "name": "python",
   "nbconvert_exporter": "python",
   "pygments_lexer": "ipython3",
   "version": "3.10.9"
  }
 },
 "nbformat": 4,
 "nbformat_minor": 5
}
