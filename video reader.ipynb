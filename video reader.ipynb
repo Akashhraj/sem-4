{
 "cells": [
  {
   "cell_type": "code",
   "execution_count": null,
   "id": "09c47851",
   "metadata": {},
   "outputs": [],
   "source": [
    "import cv2\n",
    "import numpy as np"
   ]
  },
  {
   "cell_type": "code",
   "execution_count": null,
   "id": "7385e42a",
   "metadata": {},
   "outputs": [],
   "source": [
    "view=cv2.VideoCapture(\"C:/Users/SN127/Downloads/messi1.mp4\")\n",
    "view"
   ]
  },
  {
   "cell_type": "markdown",
   "id": "4790327e",
   "metadata": {},
   "source": [
    "# displaying the video"
   ]
  },
  {
   "cell_type": "code",
   "execution_count": null,
   "id": "28af8637",
   "metadata": {},
   "outputs": [],
   "source": [
    "while(view.isOpened()):\n",
    "    ret,frame=view.read()\n",
    "    gray=cv2.cvtColor(frame,cv2.COLOR_BGR2GRAY)\n",
    "    cv2.imshow('gray',gray)\n",
    "    cv2.imshow('origin',frame)\n",
    "    if cv2.waitKey(5) & 0xFF == ord('q'):\n",
    "        break\n",
    "    \n",
    "view.release()\n",
    "cv2.destroyAllWindows()"
   ]
  }
 ],
 "metadata": {
  "kernelspec": {
   "display_name": "Python 3 (ipykernel)",
   "language": "python",
   "name": "python3"
  },
  "language_info": {
   "codemirror_mode": {
    "name": "ipython",
    "version": 3
   },
   "file_extension": ".py",
   "mimetype": "text/x-python",
   "name": "python",
   "nbconvert_exporter": "python",
   "pygments_lexer": "ipython3",
   "version": "3.10.9"
  }
 },
 "nbformat": 4,
 "nbformat_minor": 5
}
